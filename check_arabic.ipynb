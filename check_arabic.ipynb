{
  "nbformat": 4,
  "nbformat_minor": 0,
  "metadata": {
    "colab": {
      "name": "Untitled10.ipynb",
      "provenance": [],
      "authorship_tag": "ABX9TyO8xgNR/BBf2V/EenIWDfa+",
      "include_colab_link": true
    },
    "kernelspec": {
      "name": "python3",
      "display_name": "Python 3"
    }
  },
  "cells": [
    {
      "cell_type": "markdown",
      "metadata": {
        "id": "view-in-github",
        "colab_type": "text"
      },
      "source": [
        "<a href=\"https://colab.research.google.com/github/VilmaU/Vilma/blob/master/check_arabic.ipynb\" target=\"_parent\"><img src=\"https://colab.research.google.com/assets/colab-badge.svg\" alt=\"Open In Colab\"/></a>"
      ]
    },
    {
      "cell_type": "code",
      "metadata": {
        "id": "Vuj3cYNtzptm",
        "colab_type": "code",
        "colab": {}
      },
      "source": [
        "def read_arabic():\n",
        "  num = int(input(\"Enter number not bigger than 3999 and bigger than 0: \"))\n",
        "  while num > 3999 or num < 1 :\n",
        "    print(\"Enter number not bigger than 3999 and bigger than 0: \")\n",
        "    num = int(input(\"Enter Arabic number: \"))\n",
        "\n",
        "  print(\"Your number is: \", num)\n",
        "  return num"
      ],
      "execution_count": 0,
      "outputs": []
    }
  ]
}